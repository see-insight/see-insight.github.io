{
 "cells": [
  {
   "cell_type": "markdown",
   "metadata": {},
   "source": [
    "# See-Insight Project Research Team Members\n",
    "\n",
    "The SEE-Insight team has mostly consisted of students working with [Dr. Dirk Colbry](http://www.dirk.colbry.com/) at Michigan State University.  \n",
    "\n",
    "## Current members\n",
    "\n",
    "* [Dr. Dirk Colbry](http://www.dirk.colbry.com)\n",
    "* Nate Britton\n",
    "* Emani Hunter\n",
    "* Cameron Hurley\n",
    "* Paul Ezimako \n",
    "\n",
    "* Nicholas Grabill \n",
    "* Kai Pinckard\n",
    "\n",
    "## Student Presentation Relating to contributions to the SEE-Segment tool\n",
    "\n",
    "* Katrina Gensterblum, \n",
    "* Noah Stolz, “Searching the Algorithm Space to Automate Scientific Image Analysis Workflows,” Poster presentation at Mid-Sure, August 2019.\n",
    "\n",
    "## Student presentations for SEE-Insight Projects\n",
    "\n",
    "* Amon Harris\n",
    "* Ali Radha. “Automated Image Segmentation System for use in Research Workflows.” Poster presentation at Mid-SURE, July  24, 2013\n",
    "* Ty Buckley, Hattie Pimentel, “The challenges of developing research tools in active and responsive open source communities,” Poster presentation at UURAF, April 2019.\n",
    "* Ty Buckley, Bella Oh, “Project Insight: Development of Programming Tools for Scientific Image Analysis,” Poster presentation at UURAF, April 13, 2018.\n",
    "* Nolan Feeny, “Interactive Scientific Image Annotation Using Jupyter Notebooks.” Poster presentation at Mid-Sure, 2017. \n",
    "\n",
    "## Student Presentations relating to the Chamview project (predecessor to SEE-Insight)\n",
    "\n",
    "* Aaron Beckett, “Testing the Effectiveness of Chamview: Evaluation of a Researcher in the Loop Workflow for Image Analysis.” Poster presentation at UURAF, April 4 2014.\n",
    "* Aaron Beckett, “Research Centered Design: A Case Study in Building Usable Image Analysis Tools for Researchers.” Poster presentation at Mid-SURE, July  24, 2013\n",
    "* Manuel Dosalman. “Toolbox for evaluating algorithms that detect anchor points in images.” Poster presentation at Mid-SURE, July 24, 2013\n",
    "* Ali Radha. “Automated Image Segmentation System for use in Research Workflows.” Poster presentation at Mid-SURE, July  24, 2013\n",
    "* Cecilia Prentice, “Improving the Accuracy and Efficiency of Image Phenomics.” Poster presentation at Mid-SURE, July  24, 2013\n",
    "* Danielle Marie Heger, “Improving Chamview Software Though Python Programming.” Poster presented at the MSU Undergraduate Research and Arts Forum, April 2013.\n",
    "* Aaron Beckett, “Speed Dating Technology: Finding the Right Program For Analyzing Audio and Video Data.” Poster presented at the MSU Undergraduate Research and Arts Forum, April 2013.\n",
    "* Jeremy Martin. “Automated Color Space Exploration in Image Processing.” Poster presentation at the MSU Summer Undergraduate Research Forum, July 2012.\n",
    "* Patrick Korth. “Using reinforcement Learning with SIFT to Track Objects in Videos.” Poster presentation at the MSU Summer Undergraduate Research Forum, July 2012.\n",
    "* Brea Myers. “The Variation of Accuracy and Precision in Ground Truth Points.” Presentation at the MSU Summer Undergraduate Research Forum, July 2012.\n",
    "* Shiloh Jordan. “Automated Image Measurements.” Presentation at the MSU Summer Undergraduate Research Forum, July 2012.\n",
    "* Jassiem Ifill. “Aiding Manual Image Annotation using A Kinematic Model.” Presentation at the MSU Summer Undergraduate Research Forum, July 2012.\n",
    "* Tim Door. “A Flexible Research Interface to Streamline Manual Image Analysis.” Poster presented at MSU Undergraduate Research and Arts Forum, April 2011.\n",
    "\n",
    "## Student Presentation for the Quant project (another predecessor to SEE-Insight)\n",
    "* Daria Tarasova, “Development of Image Quality Controls Modules for Web-Based Image Submission System.” Poster presentation at Mid-Sure, 2016\n",
    "* Jingyi Liu, “Development of User Interface Design for High-Throughput Image Analysis.” Poster presentation at Mid-Sure, 2016\n",
    "* Anna Schmidt, “Analysis of Image Upload Methods for Quantitative Histological Analysis Tool (QuHAnT).” Poster presentation at Mid-Sure, 2016\n",
    "\n",
    "## Other Scientific Image Understanding Student projects that proceeded SEE-Insight\n",
    "* Kenneth Stewart, “Interface for Particulate Organic Matter Image Processing and Analysis.” Poster presentation at Mid-Sure, 2016\n",
    "* Zayd Radha, “Image Based Detection and Three-Dimensional Reconstruction of Dislocations in Metallic Crystal Lattice Structures.” Poster presentation at Mid-Sure, 2016\n",
    "* Sean Heider, “Interpolation of Identifier Points of Landmarks that Create Stitched Images with Varying Levels of Focus.” Poster presentation at Mid-SURE, July  24, 2013\n",
    "* Amy Marie Dentlinger, “Healthy vs. Unhealthy: Analysis of FMRI Images In Relation to Food Choice.” Poster presented at the MSU Undergraduate Research and Arts Forum, April 2013.\n",
    "* Brock Andrew Krygier, “Background Subtraction.” Poster presented at the MSU Undergraduate Research and Arts Forum, April 2013.\n",
    "* Goksu Adanali, “Facial Expression Analysis.” Poster presented at the MSU Undergraduate Research and Arts Forum, April 2013.\n",
    "* Kathryn Lee Gwizdala, “The Automation of Chestnut Grading.” Poster presented at the MSU Undergraduate Research and Arts Forum, April 2013.\n",
    "* David Michael Zoltowski, “Correlation Between Brain Volumes and Age in People with Alzheimer’s Disease.” Poster presented at the MSU Undergraduate Research and Arts Forum, April 2013."
   ]
  },
  {
   "cell_type": "code",
   "execution_count": 3,
   "metadata": {},
   "outputs": [],
   "source": [
    "!jupyter nbconvert --log-level=0 --no-input --no-prompt --allow-errors --to Markdown Contributors.ipynb >& /dev/null "
   ]
  },
  {
   "cell_type": "markdown",
   "metadata": {},
   "source": [
    "----"
   ]
  }
 ],
 "metadata": {
  "kernelspec": {
   "display_name": "Python 3",
   "language": "python",
   "name": "python3"
  },
  "language_info": {
   "codemirror_mode": {
    "name": "ipython",
    "version": 3
   },
   "file_extension": ".py",
   "mimetype": "text/x-python",
   "name": "python",
   "nbconvert_exporter": "python",
   "pygments_lexer": "ipython3",
   "version": "3.7.6"
  }
 },
 "nbformat": 4,
 "nbformat_minor": 4
}
